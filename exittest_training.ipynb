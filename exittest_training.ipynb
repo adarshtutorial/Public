{
 "cells": [
  {
   "cell_type": "code",
   "execution_count": 2,
   "metadata": {
    "id": "cxwnHqHG8-l1"
   },
   "outputs": [],
   "source": [
    "# Import the numpy and pandas package\n",
    "\n",
    "import numpy as np\n",
    "import pandas as pd\n",
    "\n",
    "# Data Visualisation\n",
    "import matplotlib.pyplot as plt\n",
    "import seaborn as sns"
   ]
  },
  {
   "cell_type": "code",
   "execution_count": 3,
   "metadata": {
    "colab": {
     "base_uri": "https://localhost:8080/",
     "height": 206
    },
    "id": "0ap7fw4w9uSs",
    "outputId": "cdf5f7b4-a54f-4d11-a42d-9733aa65f7c0"
   },
   "outputs": [
    {
     "data": {
      "text/html": [
       "<div>\n",
       "<style scoped>\n",
       "    .dataframe tbody tr th:only-of-type {\n",
       "        vertical-align: middle;\n",
       "    }\n",
       "\n",
       "    .dataframe tbody tr th {\n",
       "        vertical-align: top;\n",
       "    }\n",
       "\n",
       "    .dataframe thead th {\n",
       "        text-align: right;\n",
       "    }\n",
       "</style>\n",
       "<table border=\"1\" class=\"dataframe\">\n",
       "  <thead>\n",
       "    <tr style=\"text-align: right;\">\n",
       "      <th></th>\n",
       "      <th>player_id</th>\n",
       "      <th>name</th>\n",
       "      <th>age</th>\n",
       "      <th>gender</th>\n",
       "      <th>country</th>\n",
       "      <th>height</th>\n",
       "      <th>weight</th>\n",
       "      <th>ball_controlling_skills</th>\n",
       "      <th>body_reflexes</th>\n",
       "      <th>body_balance</th>\n",
       "      <th>...</th>\n",
       "      <th>strong_foot</th>\n",
       "      <th>behaviour_rating</th>\n",
       "      <th>matches_played</th>\n",
       "      <th>fitness_rating</th>\n",
       "      <th>trophies_won</th>\n",
       "      <th>dedication_level</th>\n",
       "      <th>coaching</th>\n",
       "      <th>years_of_experience</th>\n",
       "      <th>no_of_disqualifications</th>\n",
       "      <th>selection</th>\n",
       "    </tr>\n",
       "  </thead>\n",
       "  <tbody>\n",
       "    <tr>\n",
       "      <th>0</th>\n",
       "      <td>PLID_4964</td>\n",
       "      <td>Keva Horan</td>\n",
       "      <td>23</td>\n",
       "      <td>M</td>\n",
       "      <td>Ukraine</td>\n",
       "      <td>6'2</td>\n",
       "      <td>176lbs</td>\n",
       "      <td>77.0</td>\n",
       "      <td>58.0</td>\n",
       "      <td>47.0</td>\n",
       "      <td>...</td>\n",
       "      <td>Right</td>\n",
       "      <td>7.7</td>\n",
       "      <td>NaN</td>\n",
       "      <td>8.1</td>\n",
       "      <td>2.0</td>\n",
       "      <td>High</td>\n",
       "      <td>Talent Hunt</td>\n",
       "      <td>8.0</td>\n",
       "      <td>0.0</td>\n",
       "      <td>1</td>\n",
       "    </tr>\n",
       "    <tr>\n",
       "      <th>1</th>\n",
       "      <td>PLID_11234</td>\n",
       "      <td>Herma Tann</td>\n",
       "      <td>18</td>\n",
       "      <td>M</td>\n",
       "      <td>Russia</td>\n",
       "      <td>5'10</td>\n",
       "      <td>148lbs</td>\n",
       "      <td>54.0</td>\n",
       "      <td>69.0</td>\n",
       "      <td>70.0</td>\n",
       "      <td>...</td>\n",
       "      <td>Any</td>\n",
       "      <td>5.3</td>\n",
       "      <td>0.0</td>\n",
       "      <td>NaN</td>\n",
       "      <td>3.0</td>\n",
       "      <td>Medium</td>\n",
       "      <td>Source</td>\n",
       "      <td>3.0</td>\n",
       "      <td>0.0</td>\n",
       "      <td>0</td>\n",
       "    </tr>\n",
       "    <tr>\n",
       "      <th>2</th>\n",
       "      <td>PLID_19127</td>\n",
       "      <td>Eilene Kizer</td>\n",
       "      <td>16</td>\n",
       "      <td>F</td>\n",
       "      <td>Spain</td>\n",
       "      <td>6'2</td>\n",
       "      <td>172lbs</td>\n",
       "      <td>34.0</td>\n",
       "      <td>43.0</td>\n",
       "      <td>45.0</td>\n",
       "      <td>...</td>\n",
       "      <td>Left</td>\n",
       "      <td>4.7</td>\n",
       "      <td>0.0</td>\n",
       "      <td>6.6</td>\n",
       "      <td>5.0</td>\n",
       "      <td>Low</td>\n",
       "      <td>Academy</td>\n",
       "      <td>2.0</td>\n",
       "      <td>0.0</td>\n",
       "      <td>1</td>\n",
       "    </tr>\n",
       "    <tr>\n",
       "      <th>3</th>\n",
       "      <td>PLID_17467</td>\n",
       "      <td>Andrea Badgett</td>\n",
       "      <td>27</td>\n",
       "      <td>M</td>\n",
       "      <td>Chile</td>\n",
       "      <td>5'11</td>\n",
       "      <td>165lbs</td>\n",
       "      <td>79.0</td>\n",
       "      <td>73.0</td>\n",
       "      <td>76.0</td>\n",
       "      <td>...</td>\n",
       "      <td>Right</td>\n",
       "      <td>8.6</td>\n",
       "      <td>113.0</td>\n",
       "      <td>8.6</td>\n",
       "      <td>6.0</td>\n",
       "      <td>Medium</td>\n",
       "      <td>Academy</td>\n",
       "      <td>13.0</td>\n",
       "      <td>16.0</td>\n",
       "      <td>1</td>\n",
       "    </tr>\n",
       "    <tr>\n",
       "      <th>4</th>\n",
       "      <td>PLID_9661</td>\n",
       "      <td>Jeremiah Bumbalough</td>\n",
       "      <td>19</td>\n",
       "      <td>F</td>\n",
       "      <td>Argentina</td>\n",
       "      <td>5'8</td>\n",
       "      <td>158lbs</td>\n",
       "      <td>47.0</td>\n",
       "      <td>61.0</td>\n",
       "      <td>74.0</td>\n",
       "      <td>...</td>\n",
       "      <td>Right</td>\n",
       "      <td>NaN</td>\n",
       "      <td>0.0</td>\n",
       "      <td>5.7</td>\n",
       "      <td>5.0</td>\n",
       "      <td>Medium</td>\n",
       "      <td>Academy</td>\n",
       "      <td>4.0</td>\n",
       "      <td>0.0</td>\n",
       "      <td>0</td>\n",
       "    </tr>\n",
       "  </tbody>\n",
       "</table>\n",
       "<p>5 rows × 30 columns</p>\n",
       "</div>"
      ],
      "text/plain": [
       "    player_id                 name  age gender    country height  weight  \\\n",
       "0   PLID_4964           Keva Horan   23      M    Ukraine    6'2  176lbs   \n",
       "1  PLID_11234           Herma Tann   18      M     Russia   5'10  148lbs   \n",
       "2  PLID_19127         Eilene Kizer   16      F      Spain    6'2  172lbs   \n",
       "3  PLID_17467       Andrea Badgett   27      M      Chile   5'11  165lbs   \n",
       "4   PLID_9661  Jeremiah Bumbalough   19      F  Argentina    5'8  158lbs   \n",
       "\n",
       "   ball_controlling_skills  body_reflexes  body_balance  ...  strong_foot  \\\n",
       "0                     77.0           58.0          47.0  ...        Right   \n",
       "1                     54.0           69.0          70.0  ...          Any   \n",
       "2                     34.0           43.0          45.0  ...         Left   \n",
       "3                     79.0           73.0          76.0  ...        Right   \n",
       "4                     47.0           61.0          74.0  ...        Right   \n",
       "\n",
       "   behaviour_rating  matches_played  fitness_rating  trophies_won  \\\n",
       "0               7.7             NaN             8.1           2.0   \n",
       "1               5.3             0.0             NaN           3.0   \n",
       "2               4.7             0.0             6.6           5.0   \n",
       "3               8.6           113.0             8.6           6.0   \n",
       "4               NaN             0.0             5.7           5.0   \n",
       "\n",
       "   dedication_level     coaching  years_of_experience  \\\n",
       "0              High  Talent Hunt                  8.0   \n",
       "1            Medium       Source                  3.0   \n",
       "2               Low      Academy                  2.0   \n",
       "3            Medium      Academy                 13.0   \n",
       "4            Medium      Academy                  4.0   \n",
       "\n",
       "   no_of_disqualifications  selection  \n",
       "0                      0.0          1  \n",
       "1                      0.0          0  \n",
       "2                      0.0          1  \n",
       "3                     16.0          1  \n",
       "4                      0.0          0  \n",
       "\n",
       "[5 rows x 30 columns]"
      ]
     },
     "execution_count": 3,
     "metadata": {},
     "output_type": "execute_result"
    }
   ],
   "source": [
    "#this dataframe can be used with pandas\n",
    "df = pd.read_csv(r'D:\\ad\\tutorials\\Data-analys\\exit_test\\train_exit.csv')\n",
    "df.head()"
   ]
  },
  {
   "cell_type": "markdown",
   "metadata": {
    "id": "Qi6JRjhzVETT"
   },
   "source": [
    "#Data inspection"
   ]
  },
  {
   "cell_type": "code",
   "execution_count": 4,
   "metadata": {
    "colab": {
     "base_uri": "https://localhost:8080/"
    },
    "id": "ym4fNvAJ9z5Z",
    "outputId": "93001648-6ead-4115-e5b3-26f3af7cb253"
   },
   "outputs": [
    {
     "data": {
      "text/plain": [
       "(13994, 30)"
      ]
     },
     "execution_count": 4,
     "metadata": {},
     "output_type": "execute_result"
    }
   ],
   "source": [
    "# Size of Dataframe\n",
    "df.shape"
   ]
  },
  {
   "cell_type": "code",
   "execution_count": 5,
   "metadata": {
    "colab": {
     "base_uri": "https://localhost:8080/"
    },
    "id": "ZvpOWxSr92Sn",
    "outputId": "976c713f-48e0-4477-bf09-14141824d86f"
   },
   "outputs": [
    {
     "name": "stdout",
     "output_type": "stream",
     "text": [
      "<class 'pandas.core.frame.DataFrame'>\n",
      "RangeIndex: 13994 entries, 0 to 13993\n",
      "Data columns (total 30 columns):\n",
      " #   Column                     Non-Null Count  Dtype  \n",
      "---  ------                     --------------  -----  \n",
      " 0   player_id                  13994 non-null  object \n",
      " 1   name                       13994 non-null  object \n",
      " 2   age                        13994 non-null  int64  \n",
      " 3   gender                     13975 non-null  object \n",
      " 4   country                    13994 non-null  object \n",
      " 5   height                     13994 non-null  object \n",
      " 6   weight                     13577 non-null  object \n",
      " 7   ball_controlling_skills    13581 non-null  float64\n",
      " 8   body_reflexes              13994 non-null  float64\n",
      " 9   body_balance               13994 non-null  float64\n",
      " 10  jumping_skills             13970 non-null  float64\n",
      " 11  penalties_conversion_rate  13964 non-null  float64\n",
      " 12  mental_strength            13966 non-null  float64\n",
      " 13  goalkeeping_skills         13994 non-null  float64\n",
      " 14  defending_skills           13994 non-null  float64\n",
      " 15  passing_skills             13994 non-null  float64\n",
      " 16  dribbling_skills           13994 non-null  float64\n",
      " 17  shot_accuracy              13422 non-null  float64\n",
      " 18  body_strength_stamina      13994 non-null  float64\n",
      " 19  max_running_speed          13994 non-null  float64\n",
      " 20  strong_foot                13442 non-null  object \n",
      " 21  behaviour_rating           13291 non-null  float64\n",
      " 22  matches_played             13328 non-null  float64\n",
      " 23  fitness_rating             13299 non-null  float64\n",
      " 24  trophies_won               13994 non-null  float64\n",
      " 25  dedication_level           13994 non-null  object \n",
      " 26  coaching                   13869 non-null  object \n",
      " 27  years_of_experience        13850 non-null  float64\n",
      " 28  no_of_disqualifications    13994 non-null  float64\n",
      " 29  selection                  13994 non-null  int64  \n",
      "dtypes: float64(19), int64(2), object(9)\n",
      "memory usage: 3.2+ MB\n"
     ]
    }
   ],
   "source": [
    "#listing the column values and datatypes\n",
    "df.info()"
   ]
  },
  {
   "cell_type": "code",
   "execution_count": 6,
   "metadata": {
    "colab": {
     "base_uri": "https://localhost:8080/"
    },
    "id": "FhOOxAhbVN4y",
    "outputId": "0ff12b71-472b-4a76-d223-5fe087120462"
   },
   "outputs": [
    {
     "data": {
      "text/plain": [
       "player_id                      0\n",
       "name                           0\n",
       "age                            0\n",
       "gender                        19\n",
       "country                        0\n",
       "height                         0\n",
       "weight                       417\n",
       "ball_controlling_skills      413\n",
       "body_reflexes                  0\n",
       "body_balance                   0\n",
       "jumping_skills                24\n",
       "penalties_conversion_rate     30\n",
       "mental_strength               28\n",
       "goalkeeping_skills             0\n",
       "defending_skills               0\n",
       "passing_skills                 0\n",
       "dribbling_skills               0\n",
       "shot_accuracy                572\n",
       "body_strength_stamina          0\n",
       "max_running_speed              0\n",
       "strong_foot                  552\n",
       "behaviour_rating             703\n",
       "matches_played               666\n",
       "fitness_rating               695\n",
       "trophies_won                   0\n",
       "dedication_level               0\n",
       "coaching                     125\n",
       "years_of_experience          144\n",
       "no_of_disqualifications        0\n",
       "selection                      0\n",
       "dtype: int64"
      ]
     },
     "execution_count": 6,
     "metadata": {},
     "output_type": "execute_result"
    }
   ],
   "source": [
    "\n",
    "df.isna().sum()"
   ]
  },
  {
   "cell_type": "code",
   "execution_count": 7,
   "metadata": {
    "colab": {
     "base_uri": "https://localhost:8080/",
     "height": 300
    },
    "id": "6cnAZrx9VSWh",
    "outputId": "3d998676-c815-4854-cff8-e9d6ea9f7325"
   },
   "outputs": [
    {
     "data": {
      "text/html": [
       "<div>\n",
       "<style scoped>\n",
       "    .dataframe tbody tr th:only-of-type {\n",
       "        vertical-align: middle;\n",
       "    }\n",
       "\n",
       "    .dataframe tbody tr th {\n",
       "        vertical-align: top;\n",
       "    }\n",
       "\n",
       "    .dataframe thead th {\n",
       "        text-align: right;\n",
       "    }\n",
       "</style>\n",
       "<table border=\"1\" class=\"dataframe\">\n",
       "  <thead>\n",
       "    <tr style=\"text-align: right;\">\n",
       "      <th></th>\n",
       "      <th>age</th>\n",
       "      <th>ball_controlling_skills</th>\n",
       "      <th>body_reflexes</th>\n",
       "      <th>body_balance</th>\n",
       "      <th>jumping_skills</th>\n",
       "      <th>penalties_conversion_rate</th>\n",
       "      <th>mental_strength</th>\n",
       "      <th>goalkeeping_skills</th>\n",
       "      <th>defending_skills</th>\n",
       "      <th>passing_skills</th>\n",
       "      <th>...</th>\n",
       "      <th>shot_accuracy</th>\n",
       "      <th>body_strength_stamina</th>\n",
       "      <th>max_running_speed</th>\n",
       "      <th>behaviour_rating</th>\n",
       "      <th>matches_played</th>\n",
       "      <th>fitness_rating</th>\n",
       "      <th>trophies_won</th>\n",
       "      <th>years_of_experience</th>\n",
       "      <th>no_of_disqualifications</th>\n",
       "      <th>selection</th>\n",
       "    </tr>\n",
       "  </thead>\n",
       "  <tbody>\n",
       "    <tr>\n",
       "      <th>count</th>\n",
       "      <td>13994.000000</td>\n",
       "      <td>13581.000000</td>\n",
       "      <td>13994.000000</td>\n",
       "      <td>13994.000000</td>\n",
       "      <td>13970.000000</td>\n",
       "      <td>13964.000000</td>\n",
       "      <td>13966.000000</td>\n",
       "      <td>13994.000000</td>\n",
       "      <td>13994.000000</td>\n",
       "      <td>13994.000000</td>\n",
       "      <td>...</td>\n",
       "      <td>13422.000000</td>\n",
       "      <td>13994.000000</td>\n",
       "      <td>13994.000000</td>\n",
       "      <td>13291.000000</td>\n",
       "      <td>13328.000000</td>\n",
       "      <td>13299.000000</td>\n",
       "      <td>13994.000000</td>\n",
       "      <td>13850.000000</td>\n",
       "      <td>13994.000000</td>\n",
       "      <td>13994.000000</td>\n",
       "    </tr>\n",
       "    <tr>\n",
       "      <th>mean</th>\n",
       "      <td>21.135844</td>\n",
       "      <td>56.043958</td>\n",
       "      <td>61.934329</td>\n",
       "      <td>62.753323</td>\n",
       "      <td>63.612026</td>\n",
       "      <td>48.495703</td>\n",
       "      <td>56.768366</td>\n",
       "      <td>16.474632</td>\n",
       "      <td>48.108118</td>\n",
       "      <td>52.935973</td>\n",
       "      <td>...</td>\n",
       "      <td>47.178140</td>\n",
       "      <td>62.652780</td>\n",
       "      <td>23.586094</td>\n",
       "      <td>5.822068</td>\n",
       "      <td>3.908463</td>\n",
       "      <td>6.405482</td>\n",
       "      <td>3.389095</td>\n",
       "      <td>6.434152</td>\n",
       "      <td>-4.740675</td>\n",
       "      <td>0.557525</td>\n",
       "    </tr>\n",
       "    <tr>\n",
       "      <th>std</th>\n",
       "      <td>5.162719</td>\n",
       "      <td>16.787353</td>\n",
       "      <td>14.931963</td>\n",
       "      <td>14.203638</td>\n",
       "      <td>11.938712</td>\n",
       "      <td>15.767506</td>\n",
       "      <td>11.977744</td>\n",
       "      <td>16.874551</td>\n",
       "      <td>16.821929</td>\n",
       "      <td>14.201782</td>\n",
       "      <td>...</td>\n",
       "      <td>15.803991</td>\n",
       "      <td>11.512526</td>\n",
       "      <td>5.194387</td>\n",
       "      <td>1.095702</td>\n",
       "      <td>13.583229</td>\n",
       "      <td>1.706983</td>\n",
       "      <td>1.709152</td>\n",
       "      <td>4.450954</td>\n",
       "      <td>72.023656</td>\n",
       "      <td>0.496698</td>\n",
       "    </tr>\n",
       "    <tr>\n",
       "      <th>min</th>\n",
       "      <td>16.000000</td>\n",
       "      <td>5.000000</td>\n",
       "      <td>12.000000</td>\n",
       "      <td>9.000000</td>\n",
       "      <td>14.000000</td>\n",
       "      <td>7.000000</td>\n",
       "      <td>9.000000</td>\n",
       "      <td>1.000000</td>\n",
       "      <td>9.000000</td>\n",
       "      <td>13.000000</td>\n",
       "      <td>...</td>\n",
       "      <td>7.000000</td>\n",
       "      <td>15.000000</td>\n",
       "      <td>5.400000</td>\n",
       "      <td>2.100000</td>\n",
       "      <td>0.000000</td>\n",
       "      <td>1.000000</td>\n",
       "      <td>0.000000</td>\n",
       "      <td>1.000000</td>\n",
       "      <td>-999.000000</td>\n",
       "      <td>0.000000</td>\n",
       "    </tr>\n",
       "    <tr>\n",
       "      <th>25%</th>\n",
       "      <td>17.000000</td>\n",
       "      <td>51.000000</td>\n",
       "      <td>54.000000</td>\n",
       "      <td>55.000000</td>\n",
       "      <td>57.000000</td>\n",
       "      <td>39.000000</td>\n",
       "      <td>49.000000</td>\n",
       "      <td>10.000000</td>\n",
       "      <td>36.000000</td>\n",
       "      <td>45.000000</td>\n",
       "      <td>...</td>\n",
       "      <td>38.000000</td>\n",
       "      <td>56.000000</td>\n",
       "      <td>21.100000</td>\n",
       "      <td>5.100000</td>\n",
       "      <td>0.000000</td>\n",
       "      <td>5.600000</td>\n",
       "      <td>2.000000</td>\n",
       "      <td>2.000000</td>\n",
       "      <td>0.000000</td>\n",
       "      <td>0.000000</td>\n",
       "    </tr>\n",
       "    <tr>\n",
       "      <th>50%</th>\n",
       "      <td>20.000000</td>\n",
       "      <td>61.000000</td>\n",
       "      <td>64.000000</td>\n",
       "      <td>65.000000</td>\n",
       "      <td>64.000000</td>\n",
       "      <td>49.000000</td>\n",
       "      <td>58.000000</td>\n",
       "      <td>11.000000</td>\n",
       "      <td>52.000000</td>\n",
       "      <td>56.000000</td>\n",
       "      <td>...</td>\n",
       "      <td>50.000000</td>\n",
       "      <td>64.000000</td>\n",
       "      <td>24.600000</td>\n",
       "      <td>5.900000</td>\n",
       "      <td>0.000000</td>\n",
       "      <td>6.800000</td>\n",
       "      <td>3.000000</td>\n",
       "      <td>6.000000</td>\n",
       "      <td>0.000000</td>\n",
       "      <td>1.000000</td>\n",
       "    </tr>\n",
       "    <tr>\n",
       "      <th>75%</th>\n",
       "      <td>24.000000</td>\n",
       "      <td>67.000000</td>\n",
       "      <td>72.000000</td>\n",
       "      <td>73.000000</td>\n",
       "      <td>72.000000</td>\n",
       "      <td>60.000000</td>\n",
       "      <td>65.000000</td>\n",
       "      <td>12.000000</td>\n",
       "      <td>61.000000</td>\n",
       "      <td>63.000000</td>\n",
       "      <td>...</td>\n",
       "      <td>59.000000</td>\n",
       "      <td>71.000000</td>\n",
       "      <td>27.100000</td>\n",
       "      <td>6.500000</td>\n",
       "      <td>1.000000</td>\n",
       "      <td>7.500000</td>\n",
       "      <td>5.000000</td>\n",
       "      <td>10.000000</td>\n",
       "      <td>0.000000</td>\n",
       "      <td>1.000000</td>\n",
       "    </tr>\n",
       "    <tr>\n",
       "      <th>max</th>\n",
       "      <td>61.000000</td>\n",
       "      <td>95.000000</td>\n",
       "      <td>96.000000</td>\n",
       "      <td>97.000000</td>\n",
       "      <td>95.000000</td>\n",
       "      <td>92.000000</td>\n",
       "      <td>92.000000</td>\n",
       "      <td>88.000000</td>\n",
       "      <td>86.000000</td>\n",
       "      <td>89.000000</td>\n",
       "      <td>...</td>\n",
       "      <td>86.000000</td>\n",
       "      <td>92.000000</td>\n",
       "      <td>35.000000</td>\n",
       "      <td>9.800000</td>\n",
       "      <td>151.000000</td>\n",
       "      <td>10.000000</td>\n",
       "      <td>9.000000</td>\n",
       "      <td>26.000000</td>\n",
       "      <td>25.000000</td>\n",
       "      <td>1.000000</td>\n",
       "    </tr>\n",
       "  </tbody>\n",
       "</table>\n",
       "<p>8 rows × 21 columns</p>\n",
       "</div>"
      ],
      "text/plain": [
       "                age  ball_controlling_skills  body_reflexes  body_balance  \\\n",
       "count  13994.000000             13581.000000   13994.000000  13994.000000   \n",
       "mean      21.135844                56.043958      61.934329     62.753323   \n",
       "std        5.162719                16.787353      14.931963     14.203638   \n",
       "min       16.000000                 5.000000      12.000000      9.000000   \n",
       "25%       17.000000                51.000000      54.000000     55.000000   \n",
       "50%       20.000000                61.000000      64.000000     65.000000   \n",
       "75%       24.000000                67.000000      72.000000     73.000000   \n",
       "max       61.000000                95.000000      96.000000     97.000000   \n",
       "\n",
       "       jumping_skills  penalties_conversion_rate  mental_strength  \\\n",
       "count    13970.000000               13964.000000     13966.000000   \n",
       "mean        63.612026                  48.495703        56.768366   \n",
       "std         11.938712                  15.767506        11.977744   \n",
       "min         14.000000                   7.000000         9.000000   \n",
       "25%         57.000000                  39.000000        49.000000   \n",
       "50%         64.000000                  49.000000        58.000000   \n",
       "75%         72.000000                  60.000000        65.000000   \n",
       "max         95.000000                  92.000000        92.000000   \n",
       "\n",
       "       goalkeeping_skills  defending_skills  passing_skills  ...  \\\n",
       "count        13994.000000      13994.000000    13994.000000  ...   \n",
       "mean            16.474632         48.108118       52.935973  ...   \n",
       "std             16.874551         16.821929       14.201782  ...   \n",
       "min              1.000000          9.000000       13.000000  ...   \n",
       "25%             10.000000         36.000000       45.000000  ...   \n",
       "50%             11.000000         52.000000       56.000000  ...   \n",
       "75%             12.000000         61.000000       63.000000  ...   \n",
       "max             88.000000         86.000000       89.000000  ...   \n",
       "\n",
       "       shot_accuracy  body_strength_stamina  max_running_speed  \\\n",
       "count   13422.000000           13994.000000       13994.000000   \n",
       "mean       47.178140              62.652780          23.586094   \n",
       "std        15.803991              11.512526           5.194387   \n",
       "min         7.000000              15.000000           5.400000   \n",
       "25%        38.000000              56.000000          21.100000   \n",
       "50%        50.000000              64.000000          24.600000   \n",
       "75%        59.000000              71.000000          27.100000   \n",
       "max        86.000000              92.000000          35.000000   \n",
       "\n",
       "       behaviour_rating  matches_played  fitness_rating  trophies_won  \\\n",
       "count      13291.000000    13328.000000    13299.000000  13994.000000   \n",
       "mean           5.822068        3.908463        6.405482      3.389095   \n",
       "std            1.095702       13.583229        1.706983      1.709152   \n",
       "min            2.100000        0.000000        1.000000      0.000000   \n",
       "25%            5.100000        0.000000        5.600000      2.000000   \n",
       "50%            5.900000        0.000000        6.800000      3.000000   \n",
       "75%            6.500000        1.000000        7.500000      5.000000   \n",
       "max            9.800000      151.000000       10.000000      9.000000   \n",
       "\n",
       "       years_of_experience  no_of_disqualifications     selection  \n",
       "count         13850.000000             13994.000000  13994.000000  \n",
       "mean              6.434152                -4.740675      0.557525  \n",
       "std               4.450954                72.023656      0.496698  \n",
       "min               1.000000              -999.000000      0.000000  \n",
       "25%               2.000000                 0.000000      0.000000  \n",
       "50%               6.000000                 0.000000      1.000000  \n",
       "75%              10.000000                 0.000000      1.000000  \n",
       "max              26.000000                25.000000      1.000000  \n",
       "\n",
       "[8 rows x 21 columns]"
      ]
     },
     "execution_count": 7,
     "metadata": {},
     "output_type": "execute_result"
    }
   ],
   "source": [
    "#stastics summary\n",
    "df.describe()"
   ]
  },
  {
   "cell_type": "code",
   "execution_count": 9,
   "metadata": {},
   "outputs": [],
   "source": [
    "#fill in the missing null values with its median value for age,ball_controlling_skills,jumping_skills,penalties_conversion_rate\n",
    "#mental_strength ,shot_accuracy,behaviour_rating,matches_played,fitness_rating,years_of_experience\n",
    "\n",
    "##fill in the missing null values with its mode value for gender,weight,strong_foot,coaching \n",
    "\n",
    "\n",
    "#df['age'].fillna(df['Age'].median(), inplace=True)\n",
    "#median of a age column\n",
    "mean_play_age=df['age'].median() \n",
    "df.age=df['age'].fillna(mean_play_age)\n",
    "\n",
    "df['ball_controlling_skills'].fillna(df['ball_controlling_skills'].median(), inplace=True)\n",
    "df['jumping_skills'].fillna(df['jumping_skills'].median(), inplace=True)\n",
    "df['penalties_conversion_rate'].fillna(df['penalties_conversion_rate'].median(), inplace=True)\n",
    "df['mental_strength'].fillna(df['mental_strength'].median(), inplace=True)\n",
    "df['shot_accuracy'].fillna(df['shot_accuracy'].median(), inplace=True)\n",
    "df['behaviour_rating'].fillna(df['behaviour_rating'].median(), inplace=True)\n",
    "df['matches_played'].fillna(df['matches_played'].median(), inplace=True)\n",
    "df['fitness_rating'].fillna(df['fitness_rating'].median(), inplace=True)\n",
    "df['years_of_experience'].fillna(df['years_of_experience'].median(), inplace=True)\n",
    "\n",
    "\n"
   ]
  },
  {
   "cell_type": "code",
   "execution_count": 10,
   "metadata": {
    "colab": {
     "base_uri": "https://localhost:8080/"
    },
    "id": "UoycIRhkV_o6",
    "outputId": "cca1613b-d228-4df4-ebeb-e22be99228fd"
   },
   "outputs": [
    {
     "data": {
      "text/plain": [
       "player_id                      0\n",
       "name                           0\n",
       "age                            0\n",
       "gender                        19\n",
       "country                        0\n",
       "height                         0\n",
       "weight                       417\n",
       "ball_controlling_skills        0\n",
       "body_reflexes                  0\n",
       "body_balance                   0\n",
       "jumping_skills                 0\n",
       "penalties_conversion_rate      0\n",
       "mental_strength                0\n",
       "goalkeeping_skills             0\n",
       "defending_skills               0\n",
       "passing_skills                 0\n",
       "dribbling_skills               0\n",
       "shot_accuracy                  0\n",
       "body_strength_stamina          0\n",
       "max_running_speed              0\n",
       "strong_foot                  552\n",
       "behaviour_rating               0\n",
       "matches_played                 0\n",
       "fitness_rating                 0\n",
       "trophies_won                   0\n",
       "dedication_level               0\n",
       "coaching                     125\n",
       "years_of_experience            0\n",
       "no_of_disqualifications        0\n",
       "selection                      0\n",
       "dtype: int64"
      ]
     },
     "execution_count": 10,
     "metadata": {},
     "output_type": "execute_result"
    }
   ],
   "source": [
    "#Checking null values:\n",
    "df.isnull().sum()"
   ]
  },
  {
   "cell_type": "code",
   "execution_count": 15,
   "metadata": {},
   "outputs": [],
   "source": [
    "#filling mode values\n",
    "df['gender'].fillna(df['gender'].mode()[0], inplace=True)\n",
    "df['weight'].fillna(df['weight'].mode()[0], inplace=True)\n",
    "df['strong_foot'].fillna(df['strong_foot'].mode()[0], inplace=True)\n",
    "df['coaching'].fillna(df['coaching'].mode()[0], inplace=True)"
   ]
  },
  {
   "cell_type": "code",
   "execution_count": 16,
   "metadata": {},
   "outputs": [
    {
     "data": {
      "text/plain": [
       "player_id                    0\n",
       "name                         0\n",
       "age                          0\n",
       "gender                       0\n",
       "country                      0\n",
       "height                       0\n",
       "weight                       0\n",
       "ball_controlling_skills      0\n",
       "body_reflexes                0\n",
       "body_balance                 0\n",
       "jumping_skills               0\n",
       "penalties_conversion_rate    0\n",
       "mental_strength              0\n",
       "goalkeeping_skills           0\n",
       "defending_skills             0\n",
       "passing_skills               0\n",
       "dribbling_skills             0\n",
       "shot_accuracy                0\n",
       "body_strength_stamina        0\n",
       "max_running_speed            0\n",
       "strong_foot                  0\n",
       "behaviour_rating             0\n",
       "matches_played               0\n",
       "fitness_rating               0\n",
       "trophies_won                 0\n",
       "dedication_level             0\n",
       "coaching                     0\n",
       "years_of_experience          0\n",
       "no_of_disqualifications      0\n",
       "selection                    0\n",
       "dtype: int64"
      ]
     },
     "execution_count": 16,
     "metadata": {},
     "output_type": "execute_result"
    }
   ],
   "source": [
    "#Checking null values:\n",
    "df.isnull().sum()"
   ]
  },
  {
   "cell_type": "code",
   "execution_count": 21,
   "metadata": {},
   "outputs": [
    {
     "data": {
      "text/html": [
       "<div>\n",
       "<style scoped>\n",
       "    .dataframe tbody tr th:only-of-type {\n",
       "        vertical-align: middle;\n",
       "    }\n",
       "\n",
       "    .dataframe tbody tr th {\n",
       "        vertical-align: top;\n",
       "    }\n",
       "\n",
       "    .dataframe thead th {\n",
       "        text-align: right;\n",
       "    }\n",
       "</style>\n",
       "<table border=\"1\" class=\"dataframe\">\n",
       "  <thead>\n",
       "    <tr style=\"text-align: right;\">\n",
       "      <th></th>\n",
       "      <th>Nations</th>\n",
       "      <th>Counts</th>\n",
       "    </tr>\n",
       "  </thead>\n",
       "  <tbody>\n",
       "    <tr>\n",
       "      <th>0</th>\n",
       "      <td>England</td>\n",
       "      <td>1157</td>\n",
       "    </tr>\n",
       "    <tr>\n",
       "      <th>1</th>\n",
       "      <td>Germany</td>\n",
       "      <td>838</td>\n",
       "    </tr>\n",
       "    <tr>\n",
       "      <th>2</th>\n",
       "      <td>Spain</td>\n",
       "      <td>796</td>\n",
       "    </tr>\n",
       "    <tr>\n",
       "      <th>3</th>\n",
       "      <td>France</td>\n",
       "      <td>734</td>\n",
       "    </tr>\n",
       "    <tr>\n",
       "      <th>4</th>\n",
       "      <td>Argentina</td>\n",
       "      <td>691</td>\n",
       "    </tr>\n",
       "  </tbody>\n",
       "</table>\n",
       "</div>"
      ],
      "text/plain": [
       "     Nations  Counts\n",
       "0    England    1157\n",
       "1    Germany     838\n",
       "2      Spain     796\n",
       "3     France     734\n",
       "4  Argentina     691"
      ]
     },
     "execution_count": 21,
     "metadata": {},
     "output_type": "execute_result"
    }
   ],
   "source": [
    "#nation wise players count using \n",
    "\n",
    "counts_Nationality = df[\"country\"].value_counts()\n",
    "counts_Nationality = counts_Nationality.reset_index()\n",
    "counts_Nationality.columns= [\"Nations\",\"Counts\"]\n",
    "counts_Nationality.head()\n",
    "\n",
    "\n",
    "\n"
   ]
  },
  {
   "cell_type": "code",
   "execution_count": 24,
   "metadata": {},
   "outputs": [],
   "source": [
    "#listing top 25 countries\n",
    "counts_Nationality_top25 = counts_Nationality.iloc[0:25,:]"
   ]
  },
  {
   "cell_type": "code",
   "execution_count": 25,
   "metadata": {
    "colab": {
     "base_uri": "https://localhost:8080/",
     "height": 507
    },
    "id": "Dy13NrXlWIxP",
    "outputId": "942cf250-6d9d-4113-f2ca-960a7857caed"
   },
   "outputs": [
    {
     "data": {
      "image/png": "[encoded data removed]",
      "text/plain": [
       "<Figure size 1800x900 with 1 Axes>"
      ]
     },
     "metadata": {},
     "output_type": "display_data"
    }
   ],
   "source": [
    "sns.catplot(y=\"Nations\",\n",
    "            x=\"Counts\",data=counts_Nationality_top25,\n",
    "            palette=\"colorblind\",height=9,kind=\"bar\",aspect=2)\n",
    "plt.title(\"Figure : \\n\\n\\n Nation Wise Players Counts \",\n",
    "          fontsize=25);"
   ]
  },
  {
   "cell_type": "code",
   "execution_count": 26,
   "metadata": {},
   "outputs": [
    {
     "data": {
      "text/plain": [
       "Text(0.5, 1.0, 'Average Rating by Age')"
      ]
     },
     "execution_count": 26,
     "metadata": {},
     "output_type": "execute_result"
    },
    {
     "data": {
      "image/png": "[encoded data removed]",
      "text/plain": [
       "<Figure size 640x480 with 1 Axes>"
      ]
     },
     "metadata": {},
     "output_type": "display_data"
    }
   ],
   "source": [
    "#player rating with age\n",
    "\n",
    "df_summary = df.groupby(['age'])['fitness_rating'].mean()\n",
    "\n",
    "\n",
    "\n",
    "ax = df_summary.plot()\n",
    "ax.set_ylabel('Rating')\n",
    "ax.set_title('Average Rating by Age')"
   ]
  },
  {
   "cell_type": "markdown",
   "metadata": {
    "id": "HJ1dSl6lWkvK"
   },
   "source": [
    "# Model Building\n",
    "\n",
    "We first assign the feature variable,  in this case, to the variable X and the response variable, Sales, to the variable y."
   ]
  },
  {
   "cell_type": "code",
   "execution_count": 74,
   "metadata": {
    "id": "TPTFgGnrW6rr"
   },
   "outputs": [
    {
     "data": {
      "text/plain": [
       "(13994, 17)"
      ]
     },
     "execution_count": 74,
     "metadata": {},
     "output_type": "execute_result"
    }
   ],
   "source": [
    "from sklearn import linear_model\n",
    "from sklearn.metrics import mean_squared_error, r2_score\n",
    "from sklearn.model_selection import train_test_split\n",
    "from sklearn.linear_model import LinearRegression\n",
    "#feature_x=['ball_controlling_skills','body_reflexes ','body_balance','jumping_skills','penalties_conversion_rate','mental_strength','goalkeeping_skills','defending_skills','passing_skills','dribbling_skills','shot_accuracy','body_strength_stamina','max_running_speed','strong_foot','behaviour_rating','matches_played','fitness_rating','trophies_won','dedication_level']\n",
    "\n",
    "#X=df['ball_controlling_skills','body_reflexes ','body_balance','jumping_skills','penalties_conversion_rate'].values()\n",
    "X = np.array(df.filter(['ball_controlling_skills','body_reflexes ','body_balance','jumping_skills','penalties_conversion_rate','mental_strength','goalkeeping_skills','defending_skills','passing_skills','dribbling_skills','shot_accuracy','body_strength_stamina','max_running_speed','behaviour_rating','matches_played','fitness_rating','trophies_won','dedication_level'], axis=1))\n",
    "X.shape\n",
    "\n",
    "\n",
    "\n"
   ]
  },
  {
   "cell_type": "code",
   "execution_count": 59,
   "metadata": {},
   "outputs": [
    {
     "data": {
      "text/plain": [
       "(13994,)"
      ]
     },
     "execution_count": 59,
     "metadata": {},
     "output_type": "execute_result"
    }
   ],
   "source": [
    "y=df['selection']\n",
    "y.shape"
   ]
  },
  {
   "cell_type": "code",
   "execution_count": 76,
   "metadata": {
    "id": "hUGUzli-ZFNB"
   },
   "outputs": [],
   "source": [
    "#training 80% and testing 20%\n",
    "from sklearn.model_selection import train_test_split\n",
    "#X is feature data\n",
    "#y is target variable\n",
    "X_train, X_test,y_train,y_test=train_test_split(X,y,test_size=0.20,random_state=42)"
   ]
  },
  {
   "cell_type": "code",
   "execution_count": 75,
   "metadata": {
    "colab": {
     "base_uri": "https://localhost:8080/",
     "height": 206
    },
    "id": "q3gJvvSkZJar",
    "outputId": "13f6b532-9178-4f76-8400-f8f7eb6f4e89"
   },
   "outputs": [
    {
     "ename": "ValueError",
     "evalue": "could not convert string to float: 'Right'",
     "output_type": "error",
     "traceback": [
      "\u001b[1;31m---------------------------------------------------------------------------\u001b[0m",
      "\u001b[1;31mValueError\u001b[0m                                Traceback (most recent call last)",
      "Cell \u001b[1;32mIn[75], line 5\u001b[0m\n\u001b[0;32m      2\u001b[0m \u001b[38;5;28;01mfrom\u001b[39;00m \u001b[38;5;21;01msklearn\u001b[39;00m\u001b[38;5;21;01m.\u001b[39;00m\u001b[38;5;21;01mtree\u001b[39;00m \u001b[38;5;28;01mimport\u001b[39;00m DecisionTreeClassifier\n\u001b[0;32m      4\u001b[0m clf\u001b[38;5;241m=\u001b[39mDecisionTreeClassifier(criterion\u001b[38;5;241m=\u001b[39m\u001b[38;5;124m'\u001b[39m\u001b[38;5;124mentropy\u001b[39m\u001b[38;5;124m'\u001b[39m,max_depth\u001b[38;5;241m=\u001b[39m\u001b[38;5;241m3\u001b[39m)\n\u001b[1;32m----> 5\u001b[0m clf\u001b[38;5;241m=\u001b[39mclf\u001b[38;5;241m.\u001b[39mfit(X_train,y_train)\n\u001b[0;32m      6\u001b[0m y_pred\u001b[38;5;241m=\u001b[39mclf\u001b[38;5;241m.\u001b[39mpredict(X_test)\n\u001b[0;32m      9\u001b[0m accuracy \u001b[38;5;241m=\u001b[39m accuracy_score(y_test, y_pred)\u001b[38;5;241m*\u001b[39m\u001b[38;5;241m100\u001b[39m\n",
      "File \u001b[1;32mC:\\ProgramData\\anaconda3\\Lib\\site-packages\\sklearn\\tree\\_classes.py:889\u001b[0m, in \u001b[0;36mDecisionTreeClassifier.fit\u001b[1;34m(self, X, y, sample_weight, check_input)\u001b[0m\n\u001b[0;32m    859\u001b[0m \u001b[38;5;28;01mdef\u001b[39;00m \u001b[38;5;21mfit\u001b[39m(\u001b[38;5;28mself\u001b[39m, X, y, sample_weight\u001b[38;5;241m=\u001b[39m\u001b[38;5;28;01mNone\u001b[39;00m, check_input\u001b[38;5;241m=\u001b[39m\u001b[38;5;28;01mTrue\u001b[39;00m):\n\u001b[0;32m    860\u001b[0m \u001b[38;5;250m    \u001b[39m\u001b[38;5;124;03m\"\"\"Build a decision tree classifier from the training set (X, y).\u001b[39;00m\n\u001b[0;32m    861\u001b[0m \n\u001b[0;32m    862\u001b[0m \u001b[38;5;124;03m    Parameters\u001b[39;00m\n\u001b[1;32m   (...)\u001b[0m\n\u001b[0;32m    886\u001b[0m \u001b[38;5;124;03m        Fitted estimator.\u001b[39;00m\n\u001b[0;32m    887\u001b[0m \u001b[38;5;124;03m    \"\"\"\u001b[39;00m\n\u001b[1;32m--> 889\u001b[0m     \u001b[38;5;28msuper\u001b[39m()\u001b[38;5;241m.\u001b[39mfit(\n\u001b[0;32m    890\u001b[0m         X,\n\u001b[0;32m    891\u001b[0m         y,\n\u001b[0;32m    892\u001b[0m         sample_weight\u001b[38;5;241m=\u001b[39msample_weight,\n\u001b[0;32m    893\u001b[0m         check_input\u001b[38;5;241m=\u001b[39mcheck_input,\n\u001b[0;32m    894\u001b[0m     )\n\u001b[0;32m    895\u001b[0m     \u001b[38;5;28;01mreturn\u001b[39;00m \u001b[38;5;28mself\u001b[39m\n",
      "File \u001b[1;32mC:\\ProgramData\\anaconda3\\Lib\\site-packages\\sklearn\\tree\\_classes.py:186\u001b[0m, in \u001b[0;36mBaseDecisionTree.fit\u001b[1;34m(self, X, y, sample_weight, check_input)\u001b[0m\n\u001b[0;32m    184\u001b[0m check_X_params \u001b[38;5;241m=\u001b[39m \u001b[38;5;28mdict\u001b[39m(dtype\u001b[38;5;241m=\u001b[39mDTYPE, accept_sparse\u001b[38;5;241m=\u001b[39m\u001b[38;5;124m\"\u001b[39m\u001b[38;5;124mcsc\u001b[39m\u001b[38;5;124m\"\u001b[39m)\n\u001b[0;32m    185\u001b[0m check_y_params \u001b[38;5;241m=\u001b[39m \u001b[38;5;28mdict\u001b[39m(ensure_2d\u001b[38;5;241m=\u001b[39m\u001b[38;5;28;01mFalse\u001b[39;00m, dtype\u001b[38;5;241m=\u001b[39m\u001b[38;5;28;01mNone\u001b[39;00m)\n\u001b[1;32m--> 186\u001b[0m X, y \u001b[38;5;241m=\u001b[39m \u001b[38;5;28mself\u001b[39m\u001b[38;5;241m.\u001b[39m_validate_data(\n\u001b[0;32m    187\u001b[0m     X, y, validate_separately\u001b[38;5;241m=\u001b[39m(check_X_params, check_y_params)\n\u001b[0;32m    188\u001b[0m )\n\u001b[0;32m    189\u001b[0m \u001b[38;5;28;01mif\u001b[39;00m issparse(X):\n\u001b[0;32m    190\u001b[0m     X\u001b[38;5;241m.\u001b[39msort_indices()\n",
      "File \u001b[1;32mC:\\ProgramData\\anaconda3\\Lib\\site-packages\\sklearn\\base.py:579\u001b[0m, in \u001b[0;36mBaseEstimator._validate_data\u001b[1;34m(self, X, y, reset, validate_separately, **check_params)\u001b[0m\n\u001b[0;32m    577\u001b[0m \u001b[38;5;28;01mif\u001b[39;00m \u001b[38;5;124m\"\u001b[39m\u001b[38;5;124mestimator\u001b[39m\u001b[38;5;124m\"\u001b[39m \u001b[38;5;129;01mnot\u001b[39;00m \u001b[38;5;129;01min\u001b[39;00m check_X_params:\n\u001b[0;32m    578\u001b[0m     check_X_params \u001b[38;5;241m=\u001b[39m {\u001b[38;5;241m*\u001b[39m\u001b[38;5;241m*\u001b[39mdefault_check_params, \u001b[38;5;241m*\u001b[39m\u001b[38;5;241m*\u001b[39mcheck_X_params}\n\u001b[1;32m--> 579\u001b[0m X \u001b[38;5;241m=\u001b[39m check_array(X, input_name\u001b[38;5;241m=\u001b[39m\u001b[38;5;124m\"\u001b[39m\u001b[38;5;124mX\u001b[39m\u001b[38;5;124m\"\u001b[39m, \u001b[38;5;241m*\u001b[39m\u001b[38;5;241m*\u001b[39mcheck_X_params)\n\u001b[0;32m    580\u001b[0m \u001b[38;5;28;01mif\u001b[39;00m \u001b[38;5;124m\"\u001b[39m\u001b[38;5;124mestimator\u001b[39m\u001b[38;5;124m\"\u001b[39m \u001b[38;5;129;01mnot\u001b[39;00m \u001b[38;5;129;01min\u001b[39;00m check_y_params:\n\u001b[0;32m    581\u001b[0m     check_y_params \u001b[38;5;241m=\u001b[39m {\u001b[38;5;241m*\u001b[39m\u001b[38;5;241m*\u001b[39mdefault_check_params, \u001b[38;5;241m*\u001b[39m\u001b[38;5;241m*\u001b[39mcheck_y_params}\n",
      "File \u001b[1;32mC:\\ProgramData\\anaconda3\\Lib\\site-packages\\sklearn\\utils\\validation.py:879\u001b[0m, in \u001b[0;36mcheck_array\u001b[1;34m(array, accept_sparse, accept_large_sparse, dtype, order, copy, force_all_finite, ensure_2d, allow_nd, ensure_min_samples, ensure_min_features, estimator, input_name)\u001b[0m\n\u001b[0;32m    877\u001b[0m         array \u001b[38;5;241m=\u001b[39m xp\u001b[38;5;241m.\u001b[39mastype(array, dtype, copy\u001b[38;5;241m=\u001b[39m\u001b[38;5;28;01mFalse\u001b[39;00m)\n\u001b[0;32m    878\u001b[0m     \u001b[38;5;28;01melse\u001b[39;00m:\n\u001b[1;32m--> 879\u001b[0m         array \u001b[38;5;241m=\u001b[39m _asarray_with_order(array, order\u001b[38;5;241m=\u001b[39morder, dtype\u001b[38;5;241m=\u001b[39mdtype, xp\u001b[38;5;241m=\u001b[39mxp)\n\u001b[0;32m    880\u001b[0m \u001b[38;5;28;01mexcept\u001b[39;00m ComplexWarning \u001b[38;5;28;01mas\u001b[39;00m complex_warning:\n\u001b[0;32m    881\u001b[0m     \u001b[38;5;28;01mraise\u001b[39;00m \u001b[38;5;167;01mValueError\u001b[39;00m(\n\u001b[0;32m    882\u001b[0m         \u001b[38;5;124m\"\u001b[39m\u001b[38;5;124mComplex data not supported\u001b[39m\u001b[38;5;130;01m\\n\u001b[39;00m\u001b[38;5;132;01m{}\u001b[39;00m\u001b[38;5;130;01m\\n\u001b[39;00m\u001b[38;5;124m\"\u001b[39m\u001b[38;5;241m.\u001b[39mformat(array)\n\u001b[0;32m    883\u001b[0m     ) \u001b[38;5;28;01mfrom\u001b[39;00m \u001b[38;5;21;01mcomplex_warning\u001b[39;00m\n",
      "File \u001b[1;32mC:\\ProgramData\\anaconda3\\Lib\\site-packages\\sklearn\\utils\\_array_api.py:185\u001b[0m, in \u001b[0;36m_asarray_with_order\u001b[1;34m(array, dtype, order, copy, xp)\u001b[0m\n\u001b[0;32m    182\u001b[0m     xp, _ \u001b[38;5;241m=\u001b[39m get_namespace(array)\n\u001b[0;32m    183\u001b[0m \u001b[38;5;28;01mif\u001b[39;00m xp\u001b[38;5;241m.\u001b[39m\u001b[38;5;18m__name__\u001b[39m \u001b[38;5;129;01min\u001b[39;00m {\u001b[38;5;124m\"\u001b[39m\u001b[38;5;124mnumpy\u001b[39m\u001b[38;5;124m\"\u001b[39m, \u001b[38;5;124m\"\u001b[39m\u001b[38;5;124mnumpy.array_api\u001b[39m\u001b[38;5;124m\"\u001b[39m}:\n\u001b[0;32m    184\u001b[0m     \u001b[38;5;66;03m# Use NumPy API to support order\u001b[39;00m\n\u001b[1;32m--> 185\u001b[0m     array \u001b[38;5;241m=\u001b[39m numpy\u001b[38;5;241m.\u001b[39masarray(array, order\u001b[38;5;241m=\u001b[39morder, dtype\u001b[38;5;241m=\u001b[39mdtype)\n\u001b[0;32m    186\u001b[0m     \u001b[38;5;28;01mreturn\u001b[39;00m xp\u001b[38;5;241m.\u001b[39masarray(array, copy\u001b[38;5;241m=\u001b[39mcopy)\n\u001b[0;32m    187\u001b[0m \u001b[38;5;28;01melse\u001b[39;00m:\n",
      "\u001b[1;31mValueError\u001b[0m: could not convert string to float: 'Right'"
     ]
    }
   ],
   "source": [
    "# Let's now take a look at the train dataset\n",
    "from sklearn.tree import DecisionTreeClassifier\n",
    "\n",
    "clf=DecisionTreeClassifier(criterion='entropy',max_depth=3)\n",
    "clf=clf.fit(X_train,y_train)\n",
    "y_pred=clf.predict(X_test)\n",
    "\n",
    "\n",
    "accuracy = accuracy_score(y_test, y_pred)*100\n",
    "print('Accuracy of our model is equal ' + str(round(accuracy, 2)) + ' %.')"
   ]
  },
  {
   "cell_type": "code",
   "execution_count": 70,
   "metadata": {
    "colab": {
     "base_uri": "https://localhost:8080/"
    },
    "id": "GfwBzNXjZQZj",
    "outputId": "500ec4c9-85e5-4f3f-b2dd-de9b9a19556f"
   },
   "outputs": [
    {
     "data": {
      "text/plain": [
       "10477    1\n",
       "10402    1\n",
       "3710     1\n",
       "3571     0\n",
       "6925     0\n",
       "Name: selection, dtype: int64"
      ]
     },
     "execution_count": 70,
     "metadata": {},
     "output_type": "execute_result"
    }
   ],
   "source": [
    "y_train.head()"
   ]
  },
  {
   "cell_type": "markdown",
   "metadata": {
    "id": "80UuCXIVZZ_C"
   },
   "source": [
    "Building a Linear Model\n"
   ]
  },
  {
   "cell_type": "code",
   "execution_count": 72,
   "metadata": {
    "id": "tuOi_UNSZYGz"
   },
   "outputs": [
    {
     "ename": "ValueError",
     "evalue": "could not convert string to float: 'Right'",
     "output_type": "error",
     "traceback": [
      "\u001b[1;31m---------------------------------------------------------------------------\u001b[0m",
      "\u001b[1;31mValueError\u001b[0m                                Traceback (most recent call last)",
      "Cell \u001b[1;32mIn[72], line 6\u001b[0m\n\u001b[0;32m      4\u001b[0m \u001b[38;5;66;03m#create and train a support vector classfier\u001b[39;00m\n\u001b[0;32m      5\u001b[0m svc_classifier\u001b[38;5;241m=\u001b[39mSVC()\n\u001b[1;32m----> 6\u001b[0m svc_classifier\u001b[38;5;241m.\u001b[39mfit(X_train,y_train)\n\u001b[0;32m      8\u001b[0m \u001b[38;5;66;03m# Create and train a K-Nearest Neighbors Classifier (KNN)\u001b[39;00m\n\u001b[0;32m      9\u001b[0m \u001b[38;5;66;03m#k value is preferably odd numbers\u001b[39;00m\n\u001b[0;32m     10\u001b[0m knn_classifier \u001b[38;5;241m=\u001b[39m KNeighborsClassifier(n_neighbors\u001b[38;5;241m=\u001b[39m\u001b[38;5;241m3\u001b[39m)\n",
      "File \u001b[1;32mC:\\ProgramData\\anaconda3\\Lib\\site-packages\\sklearn\\svm\\_base.py:192\u001b[0m, in \u001b[0;36mBaseLibSVM.fit\u001b[1;34m(self, X, y, sample_weight)\u001b[0m\n\u001b[0;32m    190\u001b[0m     check_consistent_length(X, y)\n\u001b[0;32m    191\u001b[0m \u001b[38;5;28;01melse\u001b[39;00m:\n\u001b[1;32m--> 192\u001b[0m     X, y \u001b[38;5;241m=\u001b[39m \u001b[38;5;28mself\u001b[39m\u001b[38;5;241m.\u001b[39m_validate_data(\n\u001b[0;32m    193\u001b[0m         X,\n\u001b[0;32m    194\u001b[0m         y,\n\u001b[0;32m    195\u001b[0m         dtype\u001b[38;5;241m=\u001b[39mnp\u001b[38;5;241m.\u001b[39mfloat64,\n\u001b[0;32m    196\u001b[0m         order\u001b[38;5;241m=\u001b[39m\u001b[38;5;124m\"\u001b[39m\u001b[38;5;124mC\u001b[39m\u001b[38;5;124m\"\u001b[39m,\n\u001b[0;32m    197\u001b[0m         accept_sparse\u001b[38;5;241m=\u001b[39m\u001b[38;5;124m\"\u001b[39m\u001b[38;5;124mcsr\u001b[39m\u001b[38;5;124m\"\u001b[39m,\n\u001b[0;32m    198\u001b[0m         accept_large_sparse\u001b[38;5;241m=\u001b[39m\u001b[38;5;28;01mFalse\u001b[39;00m,\n\u001b[0;32m    199\u001b[0m     )\n\u001b[0;32m    201\u001b[0m y \u001b[38;5;241m=\u001b[39m \u001b[38;5;28mself\u001b[39m\u001b[38;5;241m.\u001b[39m_validate_targets(y)\n\u001b[0;32m    203\u001b[0m sample_weight \u001b[38;5;241m=\u001b[39m np\u001b[38;5;241m.\u001b[39masarray(\n\u001b[0;32m    204\u001b[0m     [] \u001b[38;5;28;01mif\u001b[39;00m sample_weight \u001b[38;5;129;01mis\u001b[39;00m \u001b[38;5;28;01mNone\u001b[39;00m \u001b[38;5;28;01melse\u001b[39;00m sample_weight, dtype\u001b[38;5;241m=\u001b[39mnp\u001b[38;5;241m.\u001b[39mfloat64\n\u001b[0;32m    205\u001b[0m )\n",
      "File \u001b[1;32mC:\\ProgramData\\anaconda3\\Lib\\site-packages\\sklearn\\base.py:584\u001b[0m, in \u001b[0;36mBaseEstimator._validate_data\u001b[1;34m(self, X, y, reset, validate_separately, **check_params)\u001b[0m\n\u001b[0;32m    582\u001b[0m         y \u001b[38;5;241m=\u001b[39m check_array(y, input_name\u001b[38;5;241m=\u001b[39m\u001b[38;5;124m\"\u001b[39m\u001b[38;5;124my\u001b[39m\u001b[38;5;124m\"\u001b[39m, \u001b[38;5;241m*\u001b[39m\u001b[38;5;241m*\u001b[39mcheck_y_params)\n\u001b[0;32m    583\u001b[0m     \u001b[38;5;28;01melse\u001b[39;00m:\n\u001b[1;32m--> 584\u001b[0m         X, y \u001b[38;5;241m=\u001b[39m check_X_y(X, y, \u001b[38;5;241m*\u001b[39m\u001b[38;5;241m*\u001b[39mcheck_params)\n\u001b[0;32m    585\u001b[0m     out \u001b[38;5;241m=\u001b[39m X, y\n\u001b[0;32m    587\u001b[0m \u001b[38;5;28;01mif\u001b[39;00m \u001b[38;5;129;01mnot\u001b[39;00m no_val_X \u001b[38;5;129;01mand\u001b[39;00m check_params\u001b[38;5;241m.\u001b[39mget(\u001b[38;5;124m\"\u001b[39m\u001b[38;5;124mensure_2d\u001b[39m\u001b[38;5;124m\"\u001b[39m, \u001b[38;5;28;01mTrue\u001b[39;00m):\n",
      "File \u001b[1;32mC:\\ProgramData\\anaconda3\\Lib\\site-packages\\sklearn\\utils\\validation.py:1106\u001b[0m, in \u001b[0;36mcheck_X_y\u001b[1;34m(X, y, accept_sparse, accept_large_sparse, dtype, order, copy, force_all_finite, ensure_2d, allow_nd, multi_output, ensure_min_samples, ensure_min_features, y_numeric, estimator)\u001b[0m\n\u001b[0;32m   1101\u001b[0m         estimator_name \u001b[38;5;241m=\u001b[39m _check_estimator_name(estimator)\n\u001b[0;32m   1102\u001b[0m     \u001b[38;5;28;01mraise\u001b[39;00m \u001b[38;5;167;01mValueError\u001b[39;00m(\n\u001b[0;32m   1103\u001b[0m         \u001b[38;5;124mf\u001b[39m\u001b[38;5;124m\"\u001b[39m\u001b[38;5;132;01m{\u001b[39;00mestimator_name\u001b[38;5;132;01m}\u001b[39;00m\u001b[38;5;124m requires y to be passed, but the target y is None\u001b[39m\u001b[38;5;124m\"\u001b[39m\n\u001b[0;32m   1104\u001b[0m     )\n\u001b[1;32m-> 1106\u001b[0m X \u001b[38;5;241m=\u001b[39m check_array(\n\u001b[0;32m   1107\u001b[0m     X,\n\u001b[0;32m   1108\u001b[0m     accept_sparse\u001b[38;5;241m=\u001b[39maccept_sparse,\n\u001b[0;32m   1109\u001b[0m     accept_large_sparse\u001b[38;5;241m=\u001b[39maccept_large_sparse,\n\u001b[0;32m   1110\u001b[0m     dtype\u001b[38;5;241m=\u001b[39mdtype,\n\u001b[0;32m   1111\u001b[0m     order\u001b[38;5;241m=\u001b[39morder,\n\u001b[0;32m   1112\u001b[0m     copy\u001b[38;5;241m=\u001b[39mcopy,\n\u001b[0;32m   1113\u001b[0m     force_all_finite\u001b[38;5;241m=\u001b[39mforce_all_finite,\n\u001b[0;32m   1114\u001b[0m     ensure_2d\u001b[38;5;241m=\u001b[39mensure_2d,\n\u001b[0;32m   1115\u001b[0m     allow_nd\u001b[38;5;241m=\u001b[39mallow_nd,\n\u001b[0;32m   1116\u001b[0m     ensure_min_samples\u001b[38;5;241m=\u001b[39mensure_min_samples,\n\u001b[0;32m   1117\u001b[0m     ensure_min_features\u001b[38;5;241m=\u001b[39mensure_min_features,\n\u001b[0;32m   1118\u001b[0m     estimator\u001b[38;5;241m=\u001b[39mestimator,\n\u001b[0;32m   1119\u001b[0m     input_name\u001b[38;5;241m=\u001b[39m\u001b[38;5;124m\"\u001b[39m\u001b[38;5;124mX\u001b[39m\u001b[38;5;124m\"\u001b[39m,\n\u001b[0;32m   1120\u001b[0m )\n\u001b[0;32m   1122\u001b[0m y \u001b[38;5;241m=\u001b[39m _check_y(y, multi_output\u001b[38;5;241m=\u001b[39mmulti_output, y_numeric\u001b[38;5;241m=\u001b[39my_numeric, estimator\u001b[38;5;241m=\u001b[39mestimator)\n\u001b[0;32m   1124\u001b[0m check_consistent_length(X, y)\n",
      "File \u001b[1;32mC:\\ProgramData\\anaconda3\\Lib\\site-packages\\sklearn\\utils\\validation.py:879\u001b[0m, in \u001b[0;36mcheck_array\u001b[1;34m(array, accept_sparse, accept_large_sparse, dtype, order, copy, force_all_finite, ensure_2d, allow_nd, ensure_min_samples, ensure_min_features, estimator, input_name)\u001b[0m\n\u001b[0;32m    877\u001b[0m         array \u001b[38;5;241m=\u001b[39m xp\u001b[38;5;241m.\u001b[39mastype(array, dtype, copy\u001b[38;5;241m=\u001b[39m\u001b[38;5;28;01mFalse\u001b[39;00m)\n\u001b[0;32m    878\u001b[0m     \u001b[38;5;28;01melse\u001b[39;00m:\n\u001b[1;32m--> 879\u001b[0m         array \u001b[38;5;241m=\u001b[39m _asarray_with_order(array, order\u001b[38;5;241m=\u001b[39morder, dtype\u001b[38;5;241m=\u001b[39mdtype, xp\u001b[38;5;241m=\u001b[39mxp)\n\u001b[0;32m    880\u001b[0m \u001b[38;5;28;01mexcept\u001b[39;00m ComplexWarning \u001b[38;5;28;01mas\u001b[39;00m complex_warning:\n\u001b[0;32m    881\u001b[0m     \u001b[38;5;28;01mraise\u001b[39;00m \u001b[38;5;167;01mValueError\u001b[39;00m(\n\u001b[0;32m    882\u001b[0m         \u001b[38;5;124m\"\u001b[39m\u001b[38;5;124mComplex data not supported\u001b[39m\u001b[38;5;130;01m\\n\u001b[39;00m\u001b[38;5;132;01m{}\u001b[39;00m\u001b[38;5;130;01m\\n\u001b[39;00m\u001b[38;5;124m\"\u001b[39m\u001b[38;5;241m.\u001b[39mformat(array)\n\u001b[0;32m    883\u001b[0m     ) \u001b[38;5;28;01mfrom\u001b[39;00m \u001b[38;5;21;01mcomplex_warning\u001b[39;00m\n",
      "File \u001b[1;32mC:\\ProgramData\\anaconda3\\Lib\\site-packages\\sklearn\\utils\\_array_api.py:185\u001b[0m, in \u001b[0;36m_asarray_with_order\u001b[1;34m(array, dtype, order, copy, xp)\u001b[0m\n\u001b[0;32m    182\u001b[0m     xp, _ \u001b[38;5;241m=\u001b[39m get_namespace(array)\n\u001b[0;32m    183\u001b[0m \u001b[38;5;28;01mif\u001b[39;00m xp\u001b[38;5;241m.\u001b[39m\u001b[38;5;18m__name__\u001b[39m \u001b[38;5;129;01min\u001b[39;00m {\u001b[38;5;124m\"\u001b[39m\u001b[38;5;124mnumpy\u001b[39m\u001b[38;5;124m\"\u001b[39m, \u001b[38;5;124m\"\u001b[39m\u001b[38;5;124mnumpy.array_api\u001b[39m\u001b[38;5;124m\"\u001b[39m}:\n\u001b[0;32m    184\u001b[0m     \u001b[38;5;66;03m# Use NumPy API to support order\u001b[39;00m\n\u001b[1;32m--> 185\u001b[0m     array \u001b[38;5;241m=\u001b[39m numpy\u001b[38;5;241m.\u001b[39masarray(array, order\u001b[38;5;241m=\u001b[39morder, dtype\u001b[38;5;241m=\u001b[39mdtype)\n\u001b[0;32m    186\u001b[0m     \u001b[38;5;28;01mreturn\u001b[39;00m xp\u001b[38;5;241m.\u001b[39masarray(array, copy\u001b[38;5;241m=\u001b[39mcopy)\n\u001b[0;32m    187\u001b[0m \u001b[38;5;28;01melse\u001b[39;00m:\n",
      "\u001b[1;31mValueError\u001b[0m: could not convert string to float: 'Right'"
     ]
    }
   ],
   "source": [
    "from sklearn.neighbors import KNeighborsClassifier\n",
    "from sklearn.svm import SVC\n",
    "\n",
    "#create and train a support vector classfier\n",
    "svc_classifier=SVC()\n",
    "svc_classifier.fit(X_train,y_train)\n",
    "\n",
    "# Create and train a K-Nearest Neighbors Classifier (KNN)\n",
    "#k value is preferably odd numbers\n",
    "knn_classifier = KNeighborsClassifier(n_neighbors=3)\n",
    "knn_classifier.fit(X_train, y_train)"
   ]
  },
  {
   "cell_type": "code",
   "execution_count": null,
   "metadata": {
    "colab": {
     "base_uri": "https://localhost:8080/",
     "height": 74
    },
    "id": "eVQF_C7eZimo",
    "outputId": "2a435f29-93e5-4dad-8e0c-87033fec4064"
   },
   "outputs": [
    {
     "data": {
      "text/html": [
       "<style>#sk-container-id-1 {color: black;background-color: white;}#sk-container-id-1 pre{padding: 0;}#sk-container-id-1 div.sk-toggleable {background-color: white;}#sk-container-id-1 label.sk-toggleable__label {cursor: pointer;display: block;width: 100%;margin-bottom: 0;padding: 0.3em;box-sizing: border-box;text-align: center;}#sk-container-id-1 label.sk-toggleable__label-arrow:before {content: \"▸\";float: left;margin-right: 0.25em;color: #696969;}#sk-container-id-1 label.sk-toggleable__label-arrow:hover:before {color: black;}#sk-container-id-1 div.sk-estimator:hover label.sk-toggleable__label-arrow:before {color: black;}#sk-container-id-1 div.sk-toggleable__content {max-height: 0;max-width: 0;overflow: hidden;text-align: left;background-color: #f0f8ff;}#sk-container-id-1 div.sk-toggleable__content pre {margin: 0.2em;color: black;border-radius: 0.25em;background-color: #f0f8ff;}#sk-container-id-1 input.sk-toggleable__control:checked~div.sk-toggleable__content {max-height: 200px;max-width: 100%;overflow: auto;}#sk-container-id-1 input.sk-toggleable__control:checked~label.sk-toggleable__label-arrow:before {content: \"▾\";}#sk-container-id-1 div.sk-estimator input.sk-toggleable__control:checked~label.sk-toggleable__label {background-color: #d4ebff;}#sk-container-id-1 div.sk-label input.sk-toggleable__control:checked~label.sk-toggleable__label {background-color: #d4ebff;}#sk-container-id-1 input.sk-hidden--visually {border: 0;clip: rect(1px 1px 1px 1px);clip: rect(1px, 1px, 1px, 1px);height: 1px;margin: -1px;overflow: hidden;padding: 0;position: absolute;width: 1px;}#sk-container-id-1 div.sk-estimator {font-family: monospace;background-color: #f0f8ff;border: 1px dotted black;border-radius: 0.25em;box-sizing: border-box;margin-bottom: 0.5em;}#sk-container-id-1 div.sk-estimator:hover {background-color: #d4ebff;}#sk-container-id-1 div.sk-parallel-item::after {content: \"\";width: 100%;border-bottom: 1px solid gray;flex-grow: 1;}#sk-container-id-1 div.sk-label:hover label.sk-toggleable__label {background-color: #d4ebff;}#sk-container-id-1 div.sk-serial::before {content: \"\";position: absolute;border-left: 1px solid gray;box-sizing: border-box;top: 0;bottom: 0;left: 50%;z-index: 0;}#sk-container-id-1 div.sk-serial {display: flex;flex-direction: column;align-items: center;background-color: white;padding-right: 0.2em;padding-left: 0.2em;position: relative;}#sk-container-id-1 div.sk-item {position: relative;z-index: 1;}#sk-container-id-1 div.sk-parallel {display: flex;align-items: stretch;justify-content: center;background-color: white;position: relative;}#sk-container-id-1 div.sk-item::before, #sk-container-id-1 div.sk-parallel-item::before {content: \"\";position: absolute;border-left: 1px solid gray;box-sizing: border-box;top: 0;bottom: 0;left: 50%;z-index: -1;}#sk-container-id-1 div.sk-parallel-item {display: flex;flex-direction: column;z-index: 1;position: relative;background-color: white;}#sk-container-id-1 div.sk-parallel-item:first-child::after {align-self: flex-end;width: 50%;}#sk-container-id-1 div.sk-parallel-item:last-child::after {align-self: flex-start;width: 50%;}#sk-container-id-1 div.sk-parallel-item:only-child::after {width: 0;}#sk-container-id-1 div.sk-dashed-wrapped {border: 1px dashed gray;margin: 0 0.4em 0.5em 0.4em;box-sizing: border-box;padding-bottom: 0.4em;background-color: white;}#sk-container-id-1 div.sk-label label {font-family: monospace;font-weight: bold;display: inline-block;line-height: 1.2em;}#sk-container-id-1 div.sk-label-container {text-align: center;}#sk-container-id-1 div.sk-container {/* jupyter's `normalize.less` sets `[hidden] { display: none; }` but bootstrap.min.css set `[hidden] { display: none !important; }` so we also need the `!important` here to be able to override the default hidden behavior on the sphinx rendered scikit-learn.org. See: https://github.com/scikit-learn/scikit-learn/issues/21755 */display: inline-block !important;position: relative;}#sk-container-id-1 div.sk-text-repr-fallback {display: none;}</style><div id=\"sk-container-id-1\" class=\"sk-top-container\"><div class=\"sk-text-repr-fallback\"><pre>LinearRegression()</pre><b>In a Jupyter environment, please rerun this cell to show the HTML representation or trust the notebook. <br />On GitHub, the HTML representation is unable to render, please try loading this page with nbviewer.org.</b></div><div class=\"sk-container\" hidden><div class=\"sk-item\"><div class=\"sk-estimator sk-toggleable\"><input class=\"sk-toggleable__control sk-hidden--visually\" id=\"sk-estimator-id-1\" type=\"checkbox\" checked><label for=\"sk-estimator-id-1\" class=\"sk-toggleable__label sk-toggleable__label-arrow\">LinearRegression</label><div class=\"sk-toggleable__content\"><pre>LinearRegression()</pre></div></div></div></div></div>"
      ],
      "text/plain": [
       "LinearRegression()"
      ]
     },
     "execution_count": 9,
     "metadata": {},
     "output_type": "execute_result"
    }
   ],
   "source": [
    "lm=LinearRegression()\n",
    "lm.fit(X_train,y_train)"
   ]
  },
  {
   "cell_type": "code",
   "execution_count": null,
   "metadata": {
    "colab": {
     "base_uri": "https://localhost:8080/"
    },
    "id": "g-I6diBLa9ho",
    "outputId": "dc15f318-6704-458b-e58f-4e25df57bbd8"
   },
   "outputs": [
    {
     "name": "stdout",
     "output_type": "stream",
     "text": [
      "4.334595861728431 [0.05382911 0.11001224 0.00628995]\n"
     ]
    }
   ],
   "source": [
    "print(lm.intercept_,lm.coef_)"
   ]
  },
  {
   "cell_type": "markdown",
   "metadata": {
    "id": "Ho_IdAWCbA5C"
   },
   "source": [
    "If i want to find y value:  y = mx + c\n",
    "  \n",
    "  y = (0.05 * TV) + (0.11 * Radio) + (0.006 * Newspaper) + 4.33\n",
    "\n"
   ]
  },
  {
   "cell_type": "code",
   "execution_count": null,
   "metadata": {
    "colab": {
     "base_uri": "https://localhost:8080/"
    },
    "id": "ZxKv55C9bBrH",
    "outputId": "f5382ee1-1186-432d-854e-9da53a4b84e7"
   },
   "outputs": [
    {
     "data": {
      "text/plain": [
       "12.841160861728431"
      ]
     },
     "execution_count": 22,
     "metadata": {},
     "output_type": "execute_result"
    }
   ],
   "source": []
  },
  {
   "cell_type": "code",
   "execution_count": null,
   "metadata": {
    "colab": {
     "base_uri": "https://localhost:8080/",
     "height": 80
    },
    "id": "_WtalqfKbLuy",
    "outputId": "07af35dd-e3a0-4fa9-9078-f378f328ec7e"
   },
   "outputs": [],
   "source": []
  },
  {
   "cell_type": "code",
   "execution_count": null,
   "metadata": {
    "colab": {
     "base_uri": "https://localhost:8080/"
    },
    "id": "H7ccTaJEbN4e",
    "outputId": "7d636031-2674-417c-e8e8-7f8de3afbcad"
   },
   "outputs": [
    {
     "data": {
      "text/plain": [
       "array([12.841161])"
      ]
     },
     "execution_count": 21,
     "metadata": {},
     "output_type": "execute_result"
    }
   ],
   "source": [
    "new_pred=lm.predict(x_new)\n",
    "new_pred"
   ]
  },
  {
   "cell_type": "markdown",
   "metadata": {
    "id": "AJyTMSDI60mC"
   },
   "source": [
    "We get the same prediction equivalent to manual calc."
   ]
  },
  {
   "cell_type": "markdown",
   "metadata": {
    "id": "eNqGVahV68qv"
   },
   "source": [
    "#Model Prediction"
   ]
  },
  {
   "cell_type": "code",
   "execution_count": null,
   "metadata": {
    "id": "QXztIuBG7BKZ"
   },
   "outputs": [],
   "source": [
    "# lets predict on test data\n",
    "preds=lm.predict(X_test)"
   ]
  },
  {
   "cell_type": "markdown",
   "metadata": {
    "id": "DTvXKm1ZT2ay"
   },
   "source": [
    "#Metrics:\n",
    "\n",
    "1. Mean Squared Error:\n",
    "    error = correct value - predict value\n",
    "    MSE = mean(Error^2)\n",
    "2. Root mean Squared Error: (RMSE):\n",
    "    RMSE = sqrt(MSE)"
   ]
  },
  {
   "cell_type": "code",
   "execution_count": null,
   "metadata": {
    "colab": {
     "base_uri": "https://localhost:8080/"
    },
    "id": "8Hc4wvH37HJ2",
    "outputId": "b1fb7053-b3f5-4a91-b161-08f8cbcd6a2b"
   },
   "outputs": [
    {
     "name": "stdout",
     "output_type": "stream",
     "text": [
      "7.106058853653404\n"
     ]
    }
   ],
   "source": [
    "from sklearn.metrics import mean_squared_error\n",
    "from math import sqrt\n",
    "\n",
    "print(sqrt(mean_squared_error(y_test,preds)))"
   ]
  }
 ],
 "metadata": {
  "colab": {
   "provenance": []
  },
  "kernelspec": {
   "display_name": "Python 3 (ipykernel)",
   "language": "python",
   "name": "python3"
  },
  "language_info": {
   "codemirror_mode": {
    "name": "ipython",
    "version": 3
   },
   "file_extension": ".py",
   "mimetype": "text/x-python",
   "name": "python",
   "nbconvert_exporter": "python",
   "pygments_lexer": "ipython3",
   "version": "3.11.3"
  }
 },
 "nbformat": 4,
 "nbformat_minor": 1
}
